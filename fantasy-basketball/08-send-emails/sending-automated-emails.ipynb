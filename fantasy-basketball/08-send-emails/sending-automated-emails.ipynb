{
 "cells": [
  {
   "cell_type": "markdown",
   "id": "fc3ee623",
   "metadata": {},
   "source": [
    "# Parameters "
   ]
  },
  {
   "cell_type": "code",
   "execution_count": 3,
   "id": "d45ec79d",
   "metadata": {},
   "outputs": [],
   "source": [
    "import os \n",
    "\n",
    "# to and from user info \n",
    "to_email = \"rjfisch07@gmail.com\" \n",
    "sender_email = \"fantasybasketballdata2024@gmail.com\" \n",
    "\n",
    "# get the email password from an environment variable \n",
    "password = os.getenv(\"EMAIL_PASSWORD\") "
   ]
  },
  {
   "cell_type": "markdown",
   "id": "309a0354",
   "metadata": {},
   "source": [
    "# Email Content "
   ]
  },
  {
   "cell_type": "code",
   "execution_count": 4,
   "id": "c747aa85",
   "metadata": {},
   "outputs": [],
   "source": [
    "# define the subject \n",
    "email_subject = \"Test Email from Python Script\" \n",
    "\n",
    "# define the body \n",
    "email_body = f'''\n",
    "Hi {to_email}, \n",
    "\n",
    "This is a test email successfully sent from a Python script. \n",
    "\n",
    "Congrats, it worked! \n",
    "''' "
   ]
  },
  {
   "cell_type": "markdown",
   "id": "cc1dbdf6",
   "metadata": {},
   "source": [
    "# Server Setup "
   ]
  },
  {
   "cell_type": "code",
   "execution_count": 5,
   "id": "1cd153aa",
   "metadata": {},
   "outputs": [
    {
     "data": {
      "text/plain": [
       "(235, b'2.7.0 Accepted')"
      ]
     },
     "execution_count": 5,
     "metadata": {},
     "output_type": "execute_result"
    }
   ],
   "source": [
    "import smtplib \n",
    "import ssl \n",
    "\n",
    "# connection constants  \n",
    "smtp_server = \"smtp.gmail.com\"\n",
    "port = 465  # For SSL \n",
    "\n",
    "# setup the email connection \n",
    "context = ssl.create_default_context()\n",
    "server = smtplib.SMTP_SSL(smtp_server, port, context = context) \n",
    "server.login(sender_email, password) "
   ]
  },
  {
   "cell_type": "markdown",
   "id": "0f5d6a86",
   "metadata": {},
   "source": [
    "# Send Email "
   ]
  },
  {
   "cell_type": "code",
   "execution_count": 6,
   "id": "c6e3f217",
   "metadata": {},
   "outputs": [
    {
     "data": {
      "text/plain": [
       "(221,\n",
       " b'2.0.0 closing connection 8926c6da1cb9f-5191117917bsm148690173.10 - gsmtp')"
      ]
     },
     "execution_count": 6,
     "metadata": {},
     "output_type": "execute_result"
    }
   ],
   "source": [
    "from email.mime.multipart import MIMEMultipart\n",
    "from email.mime.text import MIMEText \n",
    "\n",
    "# create the message and add the details\n",
    "msg = MIMEMultipart() \n",
    "msg['From'] = sender_email \n",
    "msg['To'] = to_email \n",
    "msg['Subject'] = email_subject \n",
    "\n",
    "# add the message to the email \n",
    "msg.attach(MIMEText(email_body, 'plain')) \n",
    "\n",
    "# send the email \n",
    "server.sendmail(sender_email, to_email, msg.as_string()) \n",
    "\n",
    "# close out the connection when we're done \n",
    "server.quit() "
   ]
  }
 ],
 "metadata": {
  "kernelspec": {
   "display_name": "Python 3",
   "language": "python",
   "name": "python3"
  },
  "language_info": {
   "codemirror_mode": {
    "name": "ipython",
    "version": 3
   },
   "file_extension": ".py",
   "mimetype": "text/x-python",
   "name": "python",
   "nbconvert_exporter": "python",
   "pygments_lexer": "ipython3",
   "version": "3.12.8"
  }
 },
 "nbformat": 4,
 "nbformat_minor": 5
}
