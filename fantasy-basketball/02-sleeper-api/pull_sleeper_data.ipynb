{
 "cells": [
  {
   "cell_type": "markdown",
   "metadata": {},
   "source": [
    "# Setup "
   ]
  },
  {
   "cell_type": "code",
   "execution_count": null,
   "metadata": {},
   "outputs": [],
   "source": [
    "import os, json, time, requests \n",
    "\n",
    "import pandas as pd \n",
    "import numpy as np \n",
    "from unidecode import unidecode \n",
    "\n",
    "# folder where all the files should go \n",
    "folder_path = f\"C://Users//YOUR_FILE_PATH\" "
   ]
  },
  {
   "cell_type": "markdown",
   "metadata": {},
   "source": [
    "## Get League ID "
   ]
  },
  {
   "cell_type": "code",
   "execution_count": null,
   "metadata": {},
   "outputs": [],
   "source": [
    "# league info \n",
    "username = \"YOUR_USERNAME\"  \n",
    "season = 2024               # change this to the season that your league is for \n",
    "\n",
    "# get my user id \n",
    "url = f\"https://api.sleeper.app/v1/user/{username}\"\n",
    "user_id = requests.get(url).json()['user_id'] \n",
    "\n",
    "# get my leagues \n",
    "url = f\"https://api.sleeper.app/v1/user/{user_id}/leagues/nba/{season}\" \n",
    "leagues = requests.get(url).json() \n",
    "\n",
    "# get the league id \n",
    "league_id = leagues[0]['league_id'] \n",
    "\n",
    "# show the league id \n",
    "print(league_id)"
   ]
  },
  {
   "cell_type": "markdown",
   "metadata": {},
   "source": [
    "# Users "
   ]
  },
  {
   "cell_type": "code",
   "execution_count": null,
   "metadata": {},
   "outputs": [],
   "source": [
    "# get the users \n",
    "url = f\"https://api.sleeper.app/v1/league/{league_id}/users\" \n",
    "users = requests.get(url).json() \n",
    "\n",
    "# loop through the users and add to a dataframe \n",
    "df = pd.DataFrame() \n",
    "for i, user in enumerate(users):\n",
    "    df = pd.concat([\n",
    "        df, \n",
    "        pd.DataFrame({\n",
    "            \"USER_ID\": [user['user_id']], \n",
    "            \"NAME\": [user['display_name']] \n",
    "        })\n",
    "    ]) \n",
    "\n",
    "# save to a csv \n",
    "df.to_csv(f\"{folder_path}//sleeper_users.csv\", index = False) \n",
    "\n",
    "# showcase the data \n",
    "df.head() "
   ]
  },
  {
   "cell_type": "markdown",
   "metadata": {},
   "source": [
    "# Rosters "
   ]
  },
  {
   "cell_type": "code",
   "execution_count": null,
   "metadata": {},
   "outputs": [],
   "source": [
    "# get the league rosters \n",
    "url = f\"https://api.sleeper.app/v1/league/{league_id}/rosters\" \n",
    "rosters = requests.get(url).json() \n",
    "\n",
    "# loop through the rosters and add the players \n",
    "df = pd.DataFrame() \n",
    "for i, roster in enumerate(rosters):\n",
    "\n",
    "    # get the players \n",
    "    players = roster['players'] \n",
    "    starters = roster['starters'] \n",
    "    is_starter = [1 if p in starters else 0 for p in players] \n",
    "\n",
    "    # add to the dataframe \n",
    "    df = pd.concat([\n",
    "        df, \n",
    "        pd.DataFrame({\n",
    "            \"ROSTER_ID\": roster.get(\"roster_id\", None),\n",
    "            \"OWNER_ID\": roster.get(\"owner_id\", None), \n",
    "            \"PLAYER_ID_SLEEPER\": roster[\"players\"], \n",
    "            \"IS_STARTER\": is_starter \n",
    "        })\n",
    "    ], ignore_index = True) \n",
    "\n",
    "# save to a csv \n",
    "df.to_csv(f\"{folder_path}//sleeper_rosters.csv\", index = False) \n",
    "\n",
    "# showcase the data \n",
    "df.head() "
   ]
  },
  {
   "cell_type": "markdown",
   "metadata": {},
   "source": [
    "# Players "
   ]
  },
  {
   "cell_type": "code",
   "execution_count": null,
   "metadata": {},
   "outputs": [],
   "source": [
    "# call the API to get the players \n",
    "url = f\"https://api.sleeper.app/v1/players/nba\" \n",
    "response = requests.get(url)  \n",
    "players = response.json() \n",
    "\n",
    "# function to convert to integer \n",
    "def convert_int(x): \n",
    "    try: \n",
    "        return int(x) \n",
    "    except: \n",
    "        return -1 \n",
    "\n",
    "# loop through the players and add to the dataframe \n",
    "df = pd.DataFrame() \n",
    "for k, val in players.items(): \n",
    "\n",
    "    # get the player positions \n",
    "    positions = val.get('fantasy_positions', []) \n",
    "    if positions is None: \n",
    "        positions = [] \n",
    "    \n",
    "    df = pd.concat([df, pd.DataFrame({\n",
    "        \"PLAYER_ID_SLEEPER\": [convert_int(k)],  \n",
    "        \"FIRST_NAME\": val.get('first_name', None), \n",
    "        \"LAST_NAME\": val.get('last_name', None), \n",
    "        \"TEAM_ABBR\": val.get('team', None), \n",
    "        \"POSITIONS\": \", \".join(positions), \n",
    "        \"TEAM_STATUS\": val.get('status', None), \n",
    "        \"SEARCH_RANK\": val.get('search_rank', None), \n",
    "        \"DC_POSITION\": val.get('depth_chart_position', None) \n",
    "    })], ignore_index = True) \n",
    "\n",
    "# remove accents \n",
    "df[\"FIRST_NAME\"] = df[\"FIRST_NAME\"].apply(lambda x: unidecode(str(x))) \n",
    "df[\"LAST_NAME\"] = df[\"LAST_NAME\"].apply(lambda x: unidecode(str(x))) \n",
    "\n",
    "# concatenate player names \n",
    "df[\"PLAYER_NAME\"] = df[\"FIRST_NAME\"] + \" \" + df[\"LAST_NAME\"] \n",
    "\n",
    "# showcase the total number of players \n",
    "nplayers = df.shape[0] \n",
    "print(f\"Total players: {nplayers:,}\") \n",
    "\n",
    "# save to a csv \n",
    "df.to_csv(f\"{folder_path}//sleeper_players.csv\", index = False)\n",
    "\n",
    "# showcase the data \n",
    "df.head() "
   ]
  }
 ],
 "metadata": {
  "kernelspec": {
   "display_name": "Python 3",
   "language": "python",
   "name": "python3"
  },
  "language_info": {
   "codemirror_mode": {
    "name": "ipython",
    "version": 3
   },
   "file_extension": ".py",
   "mimetype": "text/x-python",
   "name": "python",
   "nbconvert_exporter": "python",
   "pygments_lexer": "ipython3",
   "version": "3.12.8"
  }
 },
 "nbformat": 4,
 "nbformat_minor": 2
}
