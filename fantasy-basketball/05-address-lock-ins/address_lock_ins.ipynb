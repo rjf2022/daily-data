{
 "cells": [
  {
   "cell_type": "markdown",
   "metadata": {},
   "source": [
    "# Setup "
   ]
  },
  {
   "cell_type": "code",
   "execution_count": null,
   "metadata": {},
   "outputs": [],
   "source": [
    "import os, json, time \n",
    "\n",
    "import pandas as pd \n",
    "import numpy as np \n",
    "\n",
    "from scipy.stats import norm \n",
    "\n",
    "# turn off the pd chained assignment warning \n",
    "pd.options.mode.chained_assignment = None \n",
    "\n",
    "# folder where all the files should go \n",
    "folder_path = f\"C://Users//YOUR_FOLDER_PATH\" "
   ]
  },
  {
   "cell_type": "markdown",
   "metadata": {},
   "source": [
    "## Current Week "
   ]
  },
  {
   "cell_type": "code",
   "execution_count": null,
   "metadata": {},
   "outputs": [],
   "source": [
    "# day 1 of the league \n",
    "first_date = pd.to_datetime(\"2024-10-22\")\n",
    "\n",
    "# get the current week number \n",
    "days_in = (pd.Timestamp.now() - first_date).days \n",
    "week_number = (days_in // 7) + 1 \n",
    "\n",
    "# showcase the current week \n",
    "print(week_number)"
   ]
  },
  {
   "cell_type": "markdown",
   "metadata": {},
   "source": [
    "# Data Prep "
   ]
  },
  {
   "cell_type": "markdown",
   "metadata": {},
   "source": [
    "## Raw Stats "
   ]
  },
  {
   "cell_type": "code",
   "execution_count": null,
   "metadata": {},
   "outputs": [],
   "source": [
    "# read in the stats data \n",
    "df_stats = pd.read_csv(f\"{folder_path}//all_stats.csv\") \n",
    " \n",
    "# make sure that the game date is formatted correctly \n",
    "df_stats[\"GAME_DATE\"] = pd.to_datetime(df_stats[\"GAME_DATE\"]) \n",
    " \n",
    "# showcase the data \n",
    "df_stats.head() "
   ]
  },
  {
   "cell_type": "markdown",
   "metadata": {},
   "source": [
    "## Players "
   ]
  },
  {
   "cell_type": "code",
   "execution_count": null,
   "metadata": {},
   "outputs": [],
   "source": [
    "# read in the players data \n",
    "df_players = pd.read_csv(f\"{folder_path}//raw_players.csv\") \n",
    " \n",
    "# put together a full player name column \n",
    "df_players[\"FULL_NAME\"] = (df_players[\"FIRST_NAME\"] + \" \" + df_players[\"LAST_NAME\"]).str.upper() \n",
    " \n",
    "# read in the Sleeper players and rosters \n",
    "df_splayers = pd.read_csv(f\"{folder_path}//sleeper_players.csv\") \n",
    "df_rosters = pd.read_csv(f\"{folder_path}//sleeper_rosters.csv\") \n",
    " \n",
    "# uppercase the names to match the other data \n",
    "df_splayers[\"FULL_NAME\"] = df_splayers[\"PLAYER_NAME\"].str.upper() \n",
    " \n",
    "# merge the rosters into the players \n",
    "df_splayers = (\n",
    "    df_splayers.merge(df_rosters, how = \"left\", on = \"PLAYER_ID_SLEEPER\") \n",
    "    [[\"FULL_NAME\", \"ROSTER_ID\", \"IS_STARTER\", \"SEARCH_RANK\"]]\n",
    ") \n",
    " \n",
    "# join to the other players dataframe \n",
    "df_players = df_splayers.merge(df_players, how = \"left\", on = \"FULL_NAME\") \n",
    "df_players = df_players.loc[~df_players[\"PLAYER_ID\"].isnull()] \n",
    " \n",
    "# aggregate the stats data \n",
    "agg_stats = df_stats.groupby(\"PLAYER_ID\").agg(\n",
    "    PTS_MEAN = (\"FANTASY_POINTS\", \"mean\"), \n",
    "    PTS_SD = (\"FANTASY_POINTS\", \"std\") \n",
    ") \n",
    " \n",
    "# join in the aggregated stats \n",
    "df_players = df_players.merge(agg_stats, how = \"left\", on = \"PLAYER_ID\") \n",
    " \n",
    "# subset to just the columns we want \n",
    "df_players = df_players[[\n",
    "    \"PLAYER_ID\", \"FULL_NAME\", \"TEAM_ID\", \"PTS_MEAN\", \"PTS_SD\", \n",
    "    \"ROSTER_ID\", \"IS_STARTER\", \"SEARCH_RANK\"\n",
    "]] \n",
    " \n",
    "# make sure that player_id is an integer \n",
    "df_players[\"PLAYER_ID\"] = df_players[\"PLAYER_ID\"].astype(int) \n",
    " \n",
    "# showcase the data \n",
    "df_players.head() "
   ]
  },
  {
   "cell_type": "markdown",
   "metadata": {},
   "source": [
    "## Individual Player Schedules "
   ]
  },
  {
   "cell_type": "code",
   "execution_count": null,
   "metadata": {},
   "outputs": [],
   "source": [
    "# read in the team schedules \n",
    "df_games = pd.read_csv(f\"{folder_path}//all_games.csv\") \n",
    " \n",
    "# make sure that the game date is formatted correctly \n",
    "df_games[\"GAME_DATE\"] = pd.to_datetime(df_games[\"GAME_DATE\"]) \n",
    " \n",
    "# concatenate the home and away teams \n",
    "df_pgames = pd.concat([\n",
    "    (\n",
    "        df_games[[\"HOME_ID\", \"GAME_ID\", \"WEEK_NUMBER\", \"GAME_DATE\"]]\n",
    "        .rename(columns = {\"HOME_ID\": \"TEAM_ID\"})\n",
    "    ), \n",
    "    (\n",
    "        df_games[[\"GUEST_ID\", \"GAME_ID\", \"WEEK_NUMBER\", \"GAME_DATE\"]]\n",
    "        .rename(columns = {\"GUEST_ID\": \"TEAM_ID\"}) \n",
    "    ) \n",
    "]) \n",
    " \n",
    "# join in a few player attributes \n",
    "df_pgames = df_pgames.merge(\n",
    "    df_players[[\"TEAM_ID\", \"PLAYER_ID\", \"FULL_NAME\"]], \n",
    "    on = \"TEAM_ID\", \n",
    "    how = \"inner\"\n",
    ") \n",
    " \n",
    "# showcase the data \n",
    "df_pgames.head()"
   ]
  },
  {
   "cell_type": "markdown",
   "metadata": {},
   "source": [
    "## Locked Points "
   ]
  },
  {
   "cell_type": "code",
   "execution_count": null,
   "metadata": {},
   "outputs": [],
   "source": [
    "# read in the locked points data \n",
    "df_locks = pd.read_csv(f\"{folder_path}//locked_points.csv\") \n",
    " \n",
    "# filter to just the current week \n",
    "df_locks = df_locks.loc[df_locks[\"WEEK_NUMBER\"] == week_number] \n",
    " \n",
    "# filter to the players that haven't been locked yet \n",
    "df_open = df_locks.loc[df_locks[\"LOCKED_POINTS\"].isna()]\n",
    " \n",
    "# filter to the players that have already been locked \n",
    "df_locks = df_locks.loc[~df_locks[\"LOCKED_POINTS\"].isna()] \n",
    " \n",
    "# showcase the data \n",
    "df_locks.head() "
   ]
  },
  {
   "cell_type": "markdown",
   "metadata": {},
   "source": [
    "# Optimize Lock-ins"
   ]
  },
  {
   "cell_type": "markdown",
   "metadata": {},
   "source": [
    "## Better Score Opportunity "
   ]
  },
  {
   "cell_type": "code",
   "execution_count": null,
   "metadata": {},
   "outputs": [],
   "source": [
    "# probability that there will be a better score given the parameters and number of games left \n",
    "def calc_prob_better(current, games_left, mean, sd):\n",
    " \n",
    "    prob_single = norm.cdf(current, loc = mean, scale = sd) \n",
    "    prob_any = 1 - (prob_single ** games_left) \n",
    " \n",
    "    return prob_any \n",
    " \n",
    "# test out the function \n",
    "pbetter = calc_prob_better(\n",
    "    current = 48.1, \n",
    "    games_left = 3, \n",
    "    mean = 42.3, \n",
    "    sd = 14.6 \n",
    ") \n",
    "print(f\"{pbetter:.1%}\")"
   ]
  },
  {
   "cell_type": "markdown",
   "metadata": {},
   "source": [
    "## Flag Potential Locks "
   ]
  },
  {
   "cell_type": "code",
   "execution_count": null,
   "metadata": {},
   "outputs": [],
   "source": [
    "# filter to just the players that we can potentially lock-in \n",
    "df_options = df_open.loc[df_open[\"TEAM\"] == \"My Team\"][[\"PLAYER_NAME\", \"PLAYER_ID\"]] \n",
    " \n",
    "# get the games that haven't been played yet  \n",
    "dfg2 = (\n",
    "    df_pgames.loc[\n",
    "        (df_pgames[\"PLAYER_ID\"].isin(df_options[\"PLAYER_ID\"])) & \n",
    "        (df_pgames[\"WEEK_NUMBER\"] == week_number) & \n",
    "        (df_pgames[\"GAME_DATE\"] > pd.Timestamp.now()) \n",
    "    ][[\"PLAYER_ID\", \"GAME_ID\"]] \n",
    "    .groupby(\"PLAYER_ID\").agg(\n",
    "        GAMES = (\"GAME_ID\", \"count\") \n",
    "    ).reset_index() \n",
    ") \n",
    " \n",
    "# get the most recent fantasy points \n",
    "dfs2 = df_stats.loc[\n",
    "    (df_stats[\"PLAYER_ID\"].isin(df_options[\"PLAYER_ID\"])) & \n",
    "    (df_stats[\"WEEK_NUMBER\"] == week_number)\n",
    "][[\"PLAYER_ID\", \"GAME_ID\", \"FANTASY_POINTS\"]] \n",
    "dfs2[\"RECENT_RANK\"] = dfs2.groupby(\"PLAYER_ID\")[\"FANTASY_POINTS\"].rank(ascending = False) \n",
    "dfs2 = dfs2.loc[dfs2[\"RECENT_RANK\"] == 1] \n",
    "dfs2 = dfs2[[\"PLAYER_ID\", \"FANTASY_POINTS\"]]  \n",
    " \n",
    "# join everything together \n",
    "df_options = (\n",
    "    df_options.merge(dfg2, on = \"PLAYER_ID\", how = \"left\") \n",
    "    .merge(dfs2, on = \"PLAYER_ID\", how = \"left\") \n",
    "    .merge(df_players[[\"PLAYER_ID\", \"PTS_MEAN\", \"PTS_SD\"]], on = \"PLAYER_ID\", how = \"left\") \n",
    ") \n",
    " \n",
    "# loop through each player and calculate the probability of a better score \n",
    "for i, row in df_options.iterrows(): \n",
    "    df_options.loc[i, \"PROB_BETTER\"] = calc_prob_better(\n",
    "        current = row[\"FANTASY_POINTS\"], \n",
    "        games_left = row[\"GAMES\"], \n",
    "        mean = row[\"PTS_MEAN\"], \n",
    "        sd = row[\"PTS_SD\"]\n",
    "    ) \n",
    " \n",
    "# sort by the lock probability \n",
    "df_options = df_options.sort_values(\"PROB_BETTER\").reset_index(drop = True) \n",
    " \n",
    "# flag whether or not we should lock \n",
    "df_options[\"LOCK\"] = df_options[\"PROB_BETTER\"] < 0.5\n",
    " \n",
    "# showcase the data \n",
    "df_options "
   ]
  },
  {
   "cell_type": "markdown",
   "metadata": {},
   "source": [
    "# Adjusted Projections "
   ]
  },
  {
   "cell_type": "markdown",
   "metadata": {},
   "source": [
    "## Simulation Function "
   ]
  },
  {
   "cell_type": "code",
   "execution_count": null,
   "metadata": {},
   "outputs": [],
   "source": [
    "def simulate_locked_points(df_players, nreps = 100, seedval = 4): \n",
    " \n",
    "    # set the random seed for reproducibility \n",
    "    np.random.seed(seedval) \n",
    " \n",
    "    # expand by the game number \n",
    "    df = df_players.copy() \n",
    "    df[\"GAME_NUM\"] = df[\"GAMES\"].apply(lambda x: np.arange(1, x + 1)) \n",
    "    df = df.explode(\"GAME_NUM\") \n",
    " \n",
    "    # expand by the simulation repetition \n",
    "    df = df.reset_index(drop = True) \n",
    "    df[\"REP_NUM\"] = df.apply(lambda x: np.arange(1, nreps + 1), axis = 1) \n",
    "    df = df.explode(\"REP_NUM\") \n",
    " \n",
    "    # simulate the points values \n",
    "    df[\"SIM_POINTS\"] = df.apply(\n",
    "        lambda x: np.random.normal(loc = x[\"PTS_MEAN\"], scale = x[\"PTS_SD\"]), axis = 1\n",
    "    ) \n",
    " \n",
    "    # calculate the number of games left \n",
    "    df[\"GAMES_LEFT\"] = df[\"GAMES\"] - df[\"GAME_NUM\"] \n",
    " \n",
    "    # compute which games we will lock in \n",
    "    df[\"PROB_BETTER\"] = df.apply(lambda x: calc_prob_better(\n",
    "        current = x[\"SIM_POINTS\"], \n",
    "        games_left = x[\"GAMES_LEFT\"], \n",
    "        mean = x[\"PTS_MEAN\"], \n",
    "        sd = x[\"PTS_SD\"] \n",
    "    ), axis = 1) \n",
    "    df = df.loc[df[\"PROB_BETTER\"] < 0.5]  \n",
    "    df = df.sort_values(by = [\"REP_NUM\", \"GAME_NUM\"]).groupby([\"PLAYER_ID\", \"REP_NUM\"]).head(1) \n",
    " \n",
    "    return df \n",
    " \n",
    "# test out the function \n",
    "simulate_locked_points(pd.DataFrame({\n",
    "    \"PLAYER_ID\": [1, 2], \n",
    "    \"PTS_MEAN\": [30, 30], \n",
    "    \"PTS_SD\": [10, 10], \n",
    "    \"GAMES\": [4, 3] \n",
    "})) "
   ]
  },
  {
   "cell_type": "markdown",
   "metadata": {},
   "source": [
    "## Adjusted Projection "
   ]
  },
  {
   "cell_type": "code",
   "execution_count": null,
   "metadata": {},
   "outputs": [],
   "source": [
    "def compute_adjusted_projections(df_players):\n",
    " \n",
    "    # simulate the locked points \n",
    "    df_sims = simulate_locked_points(df_players) \n",
    " \n",
    "    # calculate the adjusted projections \n",
    "    df_adjusted = df_sims.groupby(list(df_players.columns) ).agg({\n",
    "        \"SIM_POINTS\": \"mean\"\n",
    "    }).reset_index() \n",
    " \n",
    "    return df_adjusted \n",
    " \n",
    "# test out the function \n",
    "compute_adjusted_projections(pd.DataFrame({\n",
    "    \"PLAYER_NAME\": [\"Player 1\", \"Player 2\"], \n",
    "    \"PLAYER_ID\": [1, 2], \n",
    "    \"PTS_MEAN\": [30, 30], \n",
    "    \"PTS_SD\": [10, 10], \n",
    "    \"GAMES\": [4, 3] \n",
    "}) ) "
   ]
  },
  {
   "cell_type": "markdown",
   "metadata": {},
   "source": [
    "# Player Comparisons "
   ]
  },
  {
   "cell_type": "code",
   "execution_count": null,
   "metadata": {},
   "outputs": [],
   "source": [
    "compare_players = [\"JONAS VALANCIUNAS\", \"DYSON DANIELS\"] \n",
    "compare_week = 12\n",
    " \n",
    "# filter down to the players we want to compare \n",
    "df_players2 = df_players.loc[df_players[\"FULL_NAME\"].isin(compare_players)] \n",
    " \n",
    "# get the number of games in the week \n",
    "agg_games = df_pgames.loc[df_pgames[\"WEEK_NUMBER\"] == compare_week].groupby([\"PLAYER_ID\"]).agg(\n",
    "    GAMES = (\"GAME_ID\", \"count\")\n",
    ") \n",
    " \n",
    "# join in the number of games \n",
    "df_players2 = df_players2.merge(agg_games, on = \"PLAYER_ID\", how = \"left\") \n",
    " \n",
    "# calculate the adjusted projections \n",
    "df_adjusted = compute_adjusted_projections(df_players2) \n",
    " \n",
    "# showcase each of the projections \n",
    "for i, row in df_adjusted.iterrows():\n",
    "    print(f\"\\n{row['FULL_NAME']} is projected to score {row['SIM_POINTS']:.1f} points this week \")\n",
    "    print(f\"  ({row['GAMES']} games with mean = {row['PTS_MEAN']:.1f} and sd = {row['PTS_SD']:.1f})\") "
   ]
  },
  {
   "cell_type": "markdown",
   "metadata": {},
   "source": [
    "# Matchup Projections "
   ]
  },
  {
   "cell_type": "markdown",
   "metadata": {},
   "source": [
    "## Simulate Remaining Games "
   ]
  },
  {
   "cell_type": "code",
   "execution_count": null,
   "metadata": {},
   "outputs": [],
   "source": [
    "# filter to the players that we need to simulate \n",
    "sim_players = df_players.merge(\n",
    "    df_open[[\"PLAYER_ID\", \"TEAM\"]], \n",
    "    on = \"PLAYER_ID\", \n",
    "    how = \"inner\"\n",
    ") \n",
    " \n",
    "# filter to the games left this week \n",
    "current_games = df_pgames.loc[\n",
    "    (df_pgames[\"WEEK_NUMBER\"] == week_number) & \n",
    "    (df_pgames[\"GAME_DATE\"] > current_date)\n",
    "] \n",
    " \n",
    "# aggregate by player \n",
    "current_games = current_games.groupby(\"PLAYER_ID\").agg(\n",
    "    GAMES = (\"GAME_ID\", \"count\")\n",
    ") \n",
    " \n",
    "# join in the number of games left \n",
    "sim_players = sim_players.merge(current_games, on = \"PLAYER_ID\", how = \"left\") \n",
    " \n",
    "# simulate the locked points \n",
    "df_sims = simulate_locked_points(sim_players) \n",
    " \n",
    "# showcase the data \n",
    "df_sims.head() "
   ]
  },
  {
   "cell_type": "markdown",
   "metadata": {},
   "source": [
    "## Repetition Totals "
   ]
  },
  {
   "cell_type": "code",
   "execution_count": null,
   "metadata": {},
   "outputs": [],
   "source": [
    "# aggregate the simulation reps by team \n",
    "df_reps = df_sims.groupby([\"TEAM\", \"REP_NUM\"]).agg( \n",
    "    SIM_TOTAL = (\"SIM_POINTS\", \"sum\")\n",
    ").reset_index() \n",
    " \n",
    "# summarize the totals that are already locked in \n",
    "locked_totals = df_locks.groupby(\"TEAM\").agg(\n",
    "    LOCKED_POINTS = (\"LOCKED_POINTS\", \"sum\")\n",
    ") \n",
    " \n",
    "# join in the locked points and add to the totals \n",
    "df_reps = df_reps.merge(locked_totals, on = \"TEAM\", how = \"left\") \n",
    "df_reps[\"LOCKED_POINTS\"] = df_reps[\"LOCKED_POINTS\"].fillna(0) \n",
    "df_reps[\"TOTAL_POINTS\"] = df_reps[\"SIM_TOTAL\"] + df_reps[\"LOCKED_POINTS\"] \n",
    " \n",
    "# showcase the data \n",
    "df_reps.head() "
   ]
  },
  {
   "cell_type": "markdown",
   "metadata": {},
   "source": [
    "## Matchup Totals "
   ]
  },
  {
   "cell_type": "code",
   "execution_count": null,
   "metadata": {},
   "outputs": [],
   "source": [
    "# calculate the overall totals \n",
    "df_totals = df_reps.groupby(\"TEAM\").agg(\n",
    "    LOCKED_POINTS = (\"LOCKED_POINTS\", \"mean\"), \n",
    "    EST_TOTAL = (\"TOTAL_POINTS\", \"mean\") \n",
    ").reset_index() \n",
    " \n",
    "# calculate the players left to lock \n",
    "dfr = df_open.groupby(\"TEAM\").agg(\n",
    "    PLAYERS_LEFT = (\"PLAYER_ID\", \"count\")\n",
    ").reset_index() \n",
    " \n",
    "# join in the players left to lock \n",
    "df_totals = df_totals.merge(dfr, on = \"TEAM\", how = \"left\") \n",
    "df_totals[\"PLAYERS_LEFT\"] = df_totals[\"PLAYERS_LEFT\"].fillna(0) \n",
    " \n",
    "# showcase the data \n",
    "df_totals "
   ]
  },
  {
   "cell_type": "markdown",
   "metadata": {},
   "source": [
    "## Prediction Intervals "
   ]
  },
  {
   "cell_type": "code",
   "execution_count": null,
   "metadata": {},
   "outputs": [],
   "source": [
    "# calculate the overall totals \n",
    "df_totals = df_reps.groupby(\"TEAM\").agg(\n",
    "    PCT05 = (\"TOTAL_POINTS\", lambda x: np.percentile(x, 5)), \n",
    "    AVG = (\"TOTAL_POINTS\", \"mean\"),\n",
    "    PCT95 = (\"TOTAL_POINTS\", lambda x: np.percentile(x, 95))\n",
    ").sort_values(\"TEAM\").reset_index() \n",
    " \n",
    "# print the overall projections \n",
    "for i, row in df_totals.iterrows():\n",
    "    print(f\"\\n{row['TEAM']}: {row['AVG']:,.1f} total points\" ) \n",
    "    print(f\"    (between {row['PCT05']:.1f} and {row['PCT95']:.1f})\") "
   ]
  },
  {
   "cell_type": "markdown",
   "metadata": {},
   "source": [
    "## Win Probability"
   ]
  },
  {
   "cell_type": "code",
   "execution_count": null,
   "metadata": {},
   "outputs": [],
   "source": [
    "# get the rep totals for my team \n",
    "dfr1 = (\n",
    "    df_reps.loc[df_reps[\"TEAM\"] == \"My Team\"] \n",
    "    [[\"REP_NUM\", \"TOTAL_POINTS\"]]\n",
    "    .rename(columns = {\"TOTAL_POINTS\": \"MY_TEAM\"}) \n",
    ") \n",
    " \n",
    "# get the rep totals for the opponent \n",
    "dfr2 = (\n",
    "    df_reps.loc[df_reps[\"TEAM\"] == \"Opponent\"] \n",
    "    [[\"REP_NUM\", \"TOTAL_POINTS\"]] \n",
    "    .rename(columns = {\"TOTAL_POINTS\": \"OPPONENT\"}) \n",
    ") \n",
    " \n",
    "# join the two together and calcuate the result \n",
    "df_match = dfr1.merge(dfr2, on = \"REP_NUM\", how = \"inner\") \n",
    "df_match[\"RESULT\"] = np.where(df_match[\"MY_TEAM\"] > df_match[\"OPPONENT\"], 1, 0) \n",
    " \n",
    "# calculate the win probability \n",
    "win_prob = df_match[\"RESULT\"].mean() \n",
    "print(f\"My team has a {win_prob:.1%} chance of winning this week\") "
   ]
  }
 ],
 "metadata": {
  "kernelspec": {
   "display_name": "base",
   "language": "python",
   "name": "python3"
  },
  "language_info": {
   "codemirror_mode": {
    "name": "ipython",
    "version": 3
   },
   "file_extension": ".py",
   "mimetype": "text/x-python",
   "name": "python",
   "nbconvert_exporter": "python",
   "pygments_lexer": "ipython3",
   "version": "3.11.5"
  }
 },
 "nbformat": 4,
 "nbformat_minor": 2
}
