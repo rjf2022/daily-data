{
 "cells": [
  {
   "cell_type": "markdown",
   "id": "52dad7b9",
   "metadata": {},
   "source": [
    "# Setup "
   ]
  },
  {
   "cell_type": "code",
   "execution_count": 10,
   "id": "cdededed",
   "metadata": {},
   "outputs": [],
   "source": [
    "import os, requests, openpyxl \n",
    "import pandas as pd \n",
    "from io import BytesIO \n",
    "\n",
    "from azure.identity import ClientSecretCredential \n",
    "\n",
    "\n",
    "# read in the credentials \n",
    "tenant_id = os.environ.get(\"AZ_TENANT_ID\") \n",
    "client_id = os.environ.get(\"AZ_CLIENT_ID\") \n",
    "client_secret = os.environ.get(\"AZ_CLIENT_SECRET\") "
   ]
  },
  {
   "cell_type": "markdown",
   "id": "8589af33",
   "metadata": {},
   "source": [
    "## Parameters "
   ]
  },
  {
   "cell_type": "code",
   "execution_count": 3,
   "id": "ca4fa50a",
   "metadata": {},
   "outputs": [],
   "source": [
    "# file parameters \n",
    "host_name = \"dailydataapps\" \n",
    "site_name = \"SharePointDemo\" \n",
    "drive_name = \"Documents\" \n",
    "file_name = \"Demo Excel Data.xlsx\" \n",
    "\n",
    "# file paths \n",
    "sharepoint_file = f\"General//{file_name}\" \n",
    "\n",
    "# base URL for the Microsoft Graph API \n",
    "base_url = \"https://graph.microsoft.com\" "
   ]
  },
  {
   "cell_type": "markdown",
   "id": "10904d5b",
   "metadata": {},
   "source": [
    "## Access Token "
   ]
  },
  {
   "cell_type": "code",
   "execution_count": 4,
   "id": "9ed898fa",
   "metadata": {},
   "outputs": [],
   "source": [
    "# generate an access token \n",
    "scopes = [f\"{base_url}/.default\"] \n",
    "credentials = ClientSecretCredential(tenant_id, client_id, client_secret) \n",
    "access_token = credentials.get_token(*scopes).token \n",
    "\n",
    "# add the token to a headers dictionary \n",
    "headers = {\n",
    "    \"Authorization\": f\"Bearer {access_token}\" \n",
    "} "
   ]
  },
  {
   "cell_type": "markdown",
   "id": "17c22ffb",
   "metadata": {},
   "source": [
    "## Site and Drive ID "
   ]
  },
  {
   "cell_type": "code",
   "execution_count": null,
   "id": "1b63a54d",
   "metadata": {},
   "outputs": [],
   "source": [
    "# Get the SharePoint site ID \n",
    "site_url = f\"{base_url}/v1.0/sites/{host_name}.sharepoint.com:/sites/{site_name}\"\n",
    "site_response = requests.get(site_url, headers = headers)  \n",
    "\n",
    "# get the site ID \n",
    "site_id = site_response.json()['id'] \n",
    "\n",
    "# Get the drive ID\n",
    "drive_url = f\"{base_url}/v1.0/sites/{site_id}/drives\"\n",
    "drive_response = requests.get(drive_url, headers = headers)\n",
    "drive_id = drive_response.json()['value'][0]['id'] "
   ]
  },
  {
   "cell_type": "markdown",
   "id": "83171fc6",
   "metadata": {},
   "source": [
    "# File Download "
   ]
  },
  {
   "cell_type": "code",
   "execution_count": 6,
   "id": "8a7141b5",
   "metadata": {},
   "outputs": [
    {
     "name": "stdout",
     "output_type": "stream",
     "text": [
      "File downloaded successfully.\n"
     ]
    }
   ],
   "source": [
    "# Define the spreadsheet URL\n",
    "file_url = f\"{base_url}/v1.0/sites/{site_id}/drives/{drive_id}/root:/{sharepoint_file}:/content\" \n",
    "\n",
    "# make the API request \n",
    "response = requests.get(file_url, headers = headers)\n",
    "\n",
    "# check if the request was successful \n",
    "if response.status_code == 200:\n",
    "\n",
    "    # if successful, load the workbook with openpyxl \n",
    "    file = BytesIO(response.content) \n",
    "    wb = openpyxl.load_workbook(file) \n",
    "\n",
    "    # update the user \n",
    "    print(\"File downloaded successfully.\") "
   ]
  },
  {
   "cell_type": "markdown",
   "id": "2160420a",
   "metadata": {},
   "source": [
    "## Import as Dataframe "
   ]
  },
  {
   "cell_type": "code",
   "execution_count": null,
   "id": "859fa010",
   "metadata": {},
   "outputs": [
    {
     "data": {
      "text/html": [
       "<div>\n",
       "<style scoped>\n",
       "    .dataframe tbody tr th:only-of-type {\n",
       "        vertical-align: middle;\n",
       "    }\n",
       "\n",
       "    .dataframe tbody tr th {\n",
       "        vertical-align: top;\n",
       "    }\n",
       "\n",
       "    .dataframe thead th {\n",
       "        text-align: right;\n",
       "    }\n",
       "</style>\n",
       "<table border=\"1\" class=\"dataframe\">\n",
       "  <thead>\n",
       "    <tr style=\"text-align: right;\">\n",
       "      <th></th>\n",
       "      <th>Col1</th>\n",
       "      <th>Col2</th>\n",
       "      <th>Col3</th>\n",
       "    </tr>\n",
       "  </thead>\n",
       "  <tbody>\n",
       "    <tr>\n",
       "      <th>0</th>\n",
       "      <td>1</td>\n",
       "      <td>5.3</td>\n",
       "      <td>87</td>\n",
       "    </tr>\n",
       "    <tr>\n",
       "      <th>1</th>\n",
       "      <td>3</td>\n",
       "      <td>4.2</td>\n",
       "      <td>53</td>\n",
       "    </tr>\n",
       "    <tr>\n",
       "      <th>2</th>\n",
       "      <td>2</td>\n",
       "      <td>9.1</td>\n",
       "      <td>254</td>\n",
       "    </tr>\n",
       "  </tbody>\n",
       "</table>\n",
       "</div>"
      ],
      "text/plain": [
       "   Col1  Col2  Col3\n",
       "0     1   5.3    87\n",
       "1     3   4.2    53\n",
       "2     2   9.1   254"
      ]
     },
     "execution_count": 12,
     "metadata": {},
     "output_type": "execute_result"
    }
   ],
   "source": [
    "# read in the table by name \n",
    "sheet = wb[\"Sheet1\"] \n",
    "data = sheet.tables[\"demo_table\"] \n",
    "\n",
    "# get the table range and extract values\n",
    "table_range = sheet[data.ref]\n",
    "\n",
    "# extract all values from the table range\n",
    "table_data = []\n",
    "for row in table_range:\n",
    "    table_data.append([cell.value for cell in row])\n",
    "\n",
    "# convert to dataframe with first row as headers\n",
    "df = pd.DataFrame(table_data[1:], columns = table_data[0])\n",
    "\n",
    "# showcase the data \n",
    "df "
   ]
  }
 ],
 "metadata": {
  "kernelspec": {
   "display_name": "base",
   "language": "python",
   "name": "python3"
  },
  "language_info": {
   "codemirror_mode": {
    "name": "ipython",
    "version": 3
   },
   "file_extension": ".py",
   "mimetype": "text/x-python",
   "name": "python",
   "nbconvert_exporter": "python",
   "pygments_lexer": "ipython3",
   "version": "3.11.5"
  }
 },
 "nbformat": 4,
 "nbformat_minor": 5
}
